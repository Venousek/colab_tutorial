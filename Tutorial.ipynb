{
  "nbformat": 4,
  "nbformat_minor": 5,
  "metadata": {
    "kernelspec": {
      "display_name": "Python 3 (ipykernel)",
      "language": "python",
      "name": "python3"
    },
    "language_info": {
      "codemirror_mode": {
        "name": "ipython",
        "version": 3
      },
      "file_extension": ".py",
      "mimetype": "text/x-python",
      "name": "python",
      "nbconvert_exporter": "python",
      "pygments_lexer": "ipython3",
      "version": "3.9.7"
    },
    "colab": {
      "name": "Tutorial.ipynb",
      "provenance": []
    }
  },
  "cells": [
    {
      "cell_type": "code",
      "metadata": {
        "id": "e68e6ea8-eac4-49b1-b9b4-e2637f4c4feb"
      },
      "source": [
        "# ! pip install tensorflow"
      ],
      "id": "e68e6ea8-eac4-49b1-b9b4-e2637f4c4feb",
      "execution_count": null,
      "outputs": []
    },
    {
      "cell_type": "code",
      "metadata": {
        "id": "5efa4d45-e3f1-4b19-b7c6-e464ddfdfbcb",
        "outputId": "a102d759-96d4-4c66-ef8d-74d8b892ecb7",
        "colab": {
          "base_uri": "https://localhost:8080/"
        }
      },
      "source": [
        "import tensorflow as tf\n",
        "print(\"TensorFlow version:\", tf.__version__)"
      ],
      "id": "5efa4d45-e3f1-4b19-b7c6-e464ddfdfbcb",
      "execution_count": 1,
      "outputs": [
        {
          "output_type": "stream",
          "name": "stdout",
          "text": [
            "TensorFlow version: 2.7.0\n"
          ]
        }
      ]
    },
    {
      "cell_type": "code",
      "metadata": {
        "id": "690e031b-89af-444a-8aea-7db606f53693",
        "outputId": "702f26d2-d533-409d-e394-86c7e479efd2",
        "colab": {
          "base_uri": "https://localhost:8080/"
        }
      },
      "source": [
        "mnist = tf.keras.datasets.mnist\n",
        "\n",
        "(x_train, y_train), (x_test, y_test) = mnist.load_data()\n",
        "x_train, x_test = x_train / 255.0, x_test / 255.0\n"
      ],
      "id": "690e031b-89af-444a-8aea-7db606f53693",
      "execution_count": 2,
      "outputs": [
        {
          "output_type": "stream",
          "name": "stdout",
          "text": [
            "Downloading data from https://storage.googleapis.com/tensorflow/tf-keras-datasets/mnist.npz\n",
            "11493376/11490434 [==============================] - 0s 0us/step\n",
            "11501568/11490434 [==============================] - 0s 0us/step\n"
          ]
        }
      ]
    },
    {
      "cell_type": "code",
      "metadata": {
        "id": "FoL-c3isVRB3"
      },
      "source": [
        "model = tf.keras.models.Sequential([\n",
        "  tf.keras.layers.Flatten(input_shape=(28, 28)),\n",
        "  tf.keras.layers.Dense(128, activation='relu'),\n",
        "  tf.keras.layers.Dropout(0.2),\n",
        "  tf.keras.layers.Dense(10)\n",
        "])\n"
      ],
      "id": "FoL-c3isVRB3",
      "execution_count": 3,
      "outputs": []
    },
    {
      "cell_type": "code",
      "metadata": {
        "id": "1Hcwp2qnVWBj",
        "outputId": "666f029f-2e4c-4dec-d9e1-ae1dec607370",
        "colab": {
          "base_uri": "https://localhost:8080/"
        }
      },
      "source": [
        "predictions = model(x_train[:1]).numpy()\n",
        "predictions"
      ],
      "id": "1Hcwp2qnVWBj",
      "execution_count": 4,
      "outputs": [
        {
          "output_type": "execute_result",
          "data": {
            "text/plain": [
              "array([[ 0.16356291,  0.03340682, -0.31842664,  0.05424215, -0.76615155,\n",
              "         0.5302319 ,  0.02511609,  0.15165251,  0.75775   , -0.10370134]],\n",
              "      dtype=float32)"
            ]
          },
          "metadata": {},
          "execution_count": 4
        }
      ]
    },
    {
      "cell_type": "code",
      "metadata": {
        "id": "_nHGprLcVYb_",
        "outputId": "a501bd99-2acd-4d8b-b139-7b740afa83c5",
        "colab": {
          "base_uri": "https://localhost:8080/"
        }
      },
      "source": [
        "tf.nn.softmax(predictions).numpy()\n"
      ],
      "id": "_nHGprLcVYb_",
      "execution_count": 5,
      "outputs": [
        {
          "output_type": "execute_result",
          "data": {
            "text/plain": [
              "array([[0.10346141, 0.09083481, 0.06389295, 0.09274723, 0.04083274,\n",
              "        0.14928657, 0.09008484, 0.10223646, 0.18742631, 0.07919668]],\n",
              "      dtype=float32)"
            ]
          },
          "metadata": {},
          "execution_count": 5
        }
      ]
    },
    {
      "cell_type": "code",
      "metadata": {
        "id": "oE_armJ1VeOF"
      },
      "source": [
        "loss_fn = tf.keras.losses.SparseCategoricalCrossentropy(from_logits=True)\n"
      ],
      "id": "oE_armJ1VeOF",
      "execution_count": 6,
      "outputs": []
    },
    {
      "cell_type": "code",
      "metadata": {
        "id": "xifWDeKTViDs",
        "outputId": "5c315515-fa8d-47d2-f9d5-1fe49bfde6f3",
        "colab": {
          "base_uri": "https://localhost:8080/"
        }
      },
      "source": [
        "loss_fn(y_train[:1], predictions).numpy()\n"
      ],
      "id": "xifWDeKTViDs",
      "execution_count": 7,
      "outputs": [
        {
          "output_type": "execute_result",
          "data": {
            "text/plain": [
              "1.9018875"
            ]
          },
          "metadata": {},
          "execution_count": 7
        }
      ]
    },
    {
      "cell_type": "code",
      "metadata": {
        "id": "ULONLJwgVkDm"
      },
      "source": [
        "model.compile(optimizer='adam',\n",
        "              loss=loss_fn,\n",
        "              metrics=['accuracy'])\n"
      ],
      "id": "ULONLJwgVkDm",
      "execution_count": 8,
      "outputs": []
    },
    {
      "cell_type": "code",
      "metadata": {
        "id": "VbK6tTZjVsUW",
        "outputId": "e8827b2c-bd3a-4748-a539-60192e4ef082",
        "colab": {
          "base_uri": "https://localhost:8080/"
        }
      },
      "source": [
        "model.fit(x_train, y_train, epochs=5)\n"
      ],
      "id": "VbK6tTZjVsUW",
      "execution_count": 9,
      "outputs": [
        {
          "output_type": "stream",
          "name": "stdout",
          "text": [
            "Epoch 1/5\n",
            "1875/1875 [==============================] - 4s 2ms/step - loss: 0.2958 - accuracy: 0.9137\n",
            "Epoch 2/5\n",
            "1875/1875 [==============================] - 4s 2ms/step - loss: 0.1452 - accuracy: 0.9565\n",
            "Epoch 3/5\n",
            "1875/1875 [==============================] - 4s 2ms/step - loss: 0.1089 - accuracy: 0.9672\n",
            "Epoch 4/5\n",
            "1875/1875 [==============================] - 4s 2ms/step - loss: 0.0874 - accuracy: 0.9722\n",
            "Epoch 5/5\n",
            "1875/1875 [==============================] - 4s 2ms/step - loss: 0.0757 - accuracy: 0.9764\n"
          ]
        },
        {
          "output_type": "execute_result",
          "data": {
            "text/plain": [
              "<keras.callbacks.History at 0x7f50c7ef3850>"
            ]
          },
          "metadata": {},
          "execution_count": 9
        }
      ]
    },
    {
      "cell_type": "code",
      "metadata": {
        "id": "aBUpOL2OVupO",
        "outputId": "c0d30696-9c00-4eec-ea40-5911fc39e939",
        "colab": {
          "base_uri": "https://localhost:8080/"
        }
      },
      "source": [
        "model.evaluate(x_test,  y_test, verbose=2)\n"
      ],
      "id": "aBUpOL2OVupO",
      "execution_count": 10,
      "outputs": [
        {
          "output_type": "stream",
          "name": "stdout",
          "text": [
            "313/313 - 0s - loss: 0.0744 - accuracy: 0.9772 - 454ms/epoch - 1ms/step\n"
          ]
        },
        {
          "output_type": "execute_result",
          "data": {
            "text/plain": [
              "[0.0744071826338768, 0.9771999716758728]"
            ]
          },
          "metadata": {},
          "execution_count": 10
        }
      ]
    },
    {
      "cell_type": "code",
      "metadata": {
        "id": "nnQD7Kt_V2fA"
      },
      "source": [
        "probability_model = tf.keras.Sequential([\n",
        "  model,\n",
        "  tf.keras.layers.Softmax()\n",
        "])\n"
      ],
      "id": "nnQD7Kt_V2fA",
      "execution_count": 11,
      "outputs": []
    },
    {
      "cell_type": "code",
      "metadata": {
        "id": "qqQ9sz9_V4bv",
        "outputId": "f9dddc5f-d6ad-4f85-ae94-b867265a944d",
        "colab": {
          "base_uri": "https://localhost:8080/"
        }
      },
      "source": [
        "probability_model(x_test[:5])\n"
      ],
      "id": "qqQ9sz9_V4bv",
      "execution_count": 12,
      "outputs": [
        {
          "output_type": "execute_result",
          "data": {
            "text/plain": [
              "<tf.Tensor: shape=(5, 10), dtype=float32, numpy=\n",
              "array([[1.07818687e-06, 9.63482183e-09, 4.47162938e-06, 1.38972930e-04,\n",
              "        1.56515697e-12, 5.79238588e-07, 2.39523961e-12, 9.99839664e-01,\n",
              "        4.90633283e-07, 1.46940611e-05],\n",
              "       [1.32052929e-08, 8.64567526e-04, 9.99121726e-01, 1.09915063e-05,\n",
              "        6.03194049e-14, 2.60151819e-06, 4.04383593e-09, 1.39261421e-12,\n",
              "        1.17761495e-07, 1.69419546e-13],\n",
              "       [2.64267032e-06, 9.98757839e-01, 7.55760630e-05, 2.35931166e-05,\n",
              "        3.14164608e-05, 1.13522901e-06, 2.42847113e-06, 9.72102513e-04,\n",
              "        1.31651585e-04, 1.57753198e-06],\n",
              "       [9.99096394e-01, 1.99505905e-08, 8.47719493e-04, 3.50446612e-07,\n",
              "        2.81192996e-07, 1.11895599e-06, 4.58963877e-05, 4.25379721e-06,\n",
              "        1.50230198e-06, 2.60656566e-06],\n",
              "       [1.13532769e-05, 9.91034987e-09, 5.21362927e-05, 2.82861561e-06,\n",
              "        9.88871276e-01, 7.38865083e-07, 4.27608302e-06, 2.00453826e-04,\n",
              "        1.48474537e-05, 1.08420039e-02]], dtype=float32)>"
            ]
          },
          "metadata": {},
          "execution_count": 12
        }
      ]
    },
    {
      "cell_type": "code",
      "metadata": {
        "id": "QOuV8VyNV6mv"
      },
      "source": [
        ""
      ],
      "id": "QOuV8VyNV6mv",
      "execution_count": null,
      "outputs": []
    }
  ]
}